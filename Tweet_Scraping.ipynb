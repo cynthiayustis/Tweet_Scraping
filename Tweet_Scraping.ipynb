{
  "cells": [
    {
      "cell_type": "markdown",
      "metadata": {
        "id": "view-in-github",
        "colab_type": "text"
      },
      "source": [
        "<a href=\"https://colab.research.google.com/github/cynthiayustis/Tweet_Scraping/blob/main/Tweet_Scraping.ipynb\" target=\"_parent\"><img src=\"https://colab.research.google.com/assets/colab-badge.svg\" alt=\"Open In Colab\"/></a>"
      ]
    },
    {
      "cell_type": "markdown",
      "source": [
        "**Para obtener tweets.**"
      ],
      "metadata": {
        "id": "Krn6mypRZ_TV"
      }
    },
    {
      "cell_type": "code",
      "execution_count": null,
      "metadata": {
        "id": "VoXRVbtHEjjv"
      },
      "outputs": [],
      "source": [
        "# Solo funciona con Python 3\n",
        "!python --version\n",
        "# Instalar twarc para la recopilación de datos de Twitter\n",
        "!pip install twarc\n",
        "!pip install --upgrade twarc-csv\n",
        "!pip install twarc-csv\n",
        "# La configuracion para twarc2 utiliza el Bearer Token de la API de twitter\n",
        "!twarc2 configure\n",
        "\n",
        "#Mis accesos: se debe solicitar el acceso para investigación para poder tener todo el historico de datos y no solo el de los últimos 7 días.\n",
        "\n",
        "##acess token 149363NNNNNNNNNNNNNNNNNNN-KVzNNNEgfr4NNNNNNNNNNNNNNNNNNNNN\n",
        "#Access Token Secret GdvNNNNNNNNNNNNNNNNNB6OJDZ1RNNXjWF6hNNNN\n",
        "#bearer AAAAAAAAAAAAAAAAAAAAANNNNNNNNNNNNNNNNNNNNN8APaE%3DYdNNNNNnwiFS8xzNNNNNNNNNNNNNNNNNNNNNNNNNhpvatkJKu"
      ]
    },
    {
      "cell_type": "code",
      "source": [
        "#Configurar acceso a drive\n",
        "from google.colab import drive\n",
        "drive.mount('/content/drive')"
      ],
      "metadata": {
        "id": "uiCXhp8Y9ztg"
      },
      "execution_count": null,
      "outputs": []
    },
    {
      "cell_type": "code",
      "execution_count": 2,
      "metadata": {
        "id": "ON5-ZSL2wOf4"
      },
      "outputs": [],
      "source": [
        "import os\n",
        "import shutil"
      ]
    },
    {
      "cell_type": "code",
      "execution_count": null,
      "metadata": {
        "id": "dAtF2nVnEzEY"
      },
      "outputs": [],
      "source": [
        "#Consulta\n",
        "# Si la consulta no encuentra resultados el archivo results.jsonl no es creado\n",
        "try:\n",
        "  os.remove(\"/content/results.jsonl\")\n",
        "except:\n",
        "  print(\"No había results.jsonl\")\n",
        "\n",
        "#Busca desde una fecha inicial (start-time) hasta una final (2022-12-31) los datos en español que no sean retweet y que contengan las palabras TCA ayuda\n",
        "!twarc2 search --archive --start-time 2022-01-01 --end-time 2022-12-31 \"lang:es -is:retweet TCA ayuda\" results.jsonl \n",
        "#Crear archivo con los tuits obtenidos en la consulta\n",
        "!twarc2 csv results.jsonl TCA_2022.csv\n",
        "\n",
        "#Guardar en drive\n",
        "shutil.copyfile(\"/content/TCA_2022.csv\", \"/content/drive/My Drive/TCA_2022.csv\")"
      ]
    }
  ],
  "metadata": {
    "colab": {
      "provenance": [],
      "mount_file_id": "1cpjyzCSHu7kpZ4K8_76ecXXQ7Ipfs61j",
      "authorship_tag": "ABX9TyMYHs9fcLMzlWG+5I916W0e",
      "include_colab_link": true
    },
    "gpuClass": "standard",
    "kernelspec": {
      "display_name": "Python 3",
      "name": "python3"
    },
    "language_info": {
      "name": "python"
    }
  },
  "nbformat": 4,
  "nbformat_minor": 0
}